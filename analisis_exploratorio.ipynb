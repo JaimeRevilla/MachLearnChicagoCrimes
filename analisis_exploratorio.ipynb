{
 "cells": [
  {
   "cell_type": "markdown",
   "metadata": {},
   "source": [
    "### Importamos las librerias necesearias"
   ]
  },
  {
   "cell_type": "code",
   "execution_count": 4,
   "metadata": {},
   "outputs": [],
   "source": [
    "import pandas as pd"
   ]
  },
  {
   "cell_type": "code",
   "execution_count": 5,
   "metadata": {},
   "outputs": [],
   "source": [
    "# mercadona1_df = pd.read_csv('datasets/Mercadona_Intervalo_1_Dataset.csv')\n",
    "mercadona_df = pd.read_csv('datasets/dataset_unificado_mercadona.csv')"
   ]
  },
  {
   "cell_type": "code",
   "execution_count": 6,
   "metadata": {},
   "outputs": [
    {
     "name": "stdout",
     "output_type": "stream",
     "text": [
      "CARGA DE DATOS DEL DATASET MERCADONA\n",
      "\n",
      "\n"
     ]
    },
    {
     "data": {
      "text/html": [
       "<div>\n",
       "<style scoped>\n",
       "    .dataframe tbody tr th:only-of-type {\n",
       "        vertical-align: middle;\n",
       "    }\n",
       "\n",
       "    .dataframe tbody tr th {\n",
       "        vertical-align: top;\n",
       "    }\n",
       "\n",
       "    .dataframe thead th {\n",
       "        text-align: right;\n",
       "    }\n",
       "</style>\n",
       "<table border=\"1\" class=\"dataframe\">\n",
       "  <thead>\n",
       "    <tr style=\"text-align: right;\">\n",
       "      <th></th>\n",
       "      <th>id</th>\n",
       "      <th>supermarket</th>\n",
       "      <th>category</th>\n",
       "      <th>name</th>\n",
       "      <th>price</th>\n",
       "      <th>reference_price</th>\n",
       "      <th>reference_unit</th>\n",
       "      <th>insert_date</th>\n",
       "      <th>PIBFecha</th>\n",
       "    </tr>\n",
       "  </thead>\n",
       "  <tbody>\n",
       "    <tr>\n",
       "      <th>0</th>\n",
       "      <td>248789</td>\n",
       "      <td>mercadona-es</td>\n",
       "      <td>fruta</td>\n",
       "      <td>Banana</td>\n",
       "      <td>0.26</td>\n",
       "      <td>1.29</td>\n",
       "      <td>kg</td>\n",
       "      <td>2020-07-21 16:06:00</td>\n",
       "      <td>287.632</td>\n",
       "    </tr>\n",
       "    <tr>\n",
       "      <th>1</th>\n",
       "      <td>248790</td>\n",
       "      <td>mercadona-es</td>\n",
       "      <td>fruta</td>\n",
       "      <td>PlÃ¡tano</td>\n",
       "      <td>0.34</td>\n",
       "      <td>1.99</td>\n",
       "      <td>kg</td>\n",
       "      <td>2020-07-21 16:06:00</td>\n",
       "      <td>287.632</td>\n",
       "    </tr>\n",
       "    <tr>\n",
       "      <th>2</th>\n",
       "      <td>248791</td>\n",
       "      <td>mercadona-es</td>\n",
       "      <td>fruta</td>\n",
       "      <td>PlÃ¡tano macho</td>\n",
       "      <td>0.58</td>\n",
       "      <td>1.95</td>\n",
       "      <td>kg</td>\n",
       "      <td>2020-07-21 16:06:00</td>\n",
       "      <td>287.632</td>\n",
       "    </tr>\n",
       "    <tr>\n",
       "      <th>3</th>\n",
       "      <td>248792</td>\n",
       "      <td>mercadona-es</td>\n",
       "      <td>fruta</td>\n",
       "      <td>Uva blanca sin semillas</td>\n",
       "      <td>2.84</td>\n",
       "      <td>3.79</td>\n",
       "      <td>kg</td>\n",
       "      <td>2020-07-21 16:06:00</td>\n",
       "      <td>287.632</td>\n",
       "    </tr>\n",
       "    <tr>\n",
       "      <th>4</th>\n",
       "      <td>248793</td>\n",
       "      <td>mercadona-es</td>\n",
       "      <td>fruta</td>\n",
       "      <td>Uva negra sin semillas</td>\n",
       "      <td>2.99</td>\n",
       "      <td>3.99</td>\n",
       "      <td>kg</td>\n",
       "      <td>2020-07-21 16:06:00</td>\n",
       "      <td>287.632</td>\n",
       "    </tr>\n",
       "  </tbody>\n",
       "</table>\n",
       "</div>"
      ],
      "text/plain": [
       "       id   supermarket category                     name  price  \\\n",
       "0  248789  mercadona-es    fruta                   Banana   0.26   \n",
       "1  248790  mercadona-es    fruta                 PlÃ¡tano   0.34   \n",
       "2  248791  mercadona-es    fruta           PlÃ¡tano macho   0.58   \n",
       "3  248792  mercadona-es    fruta  Uva blanca sin semillas   2.84   \n",
       "4  248793  mercadona-es    fruta   Uva negra sin semillas   2.99   \n",
       "\n",
       "   reference_price reference_unit          insert_date  PIBFecha  \n",
       "0             1.29             kg  2020-07-21 16:06:00   287.632  \n",
       "1             1.99             kg  2020-07-21 16:06:00   287.632  \n",
       "2             1.95             kg  2020-07-21 16:06:00   287.632  \n",
       "3             3.79             kg  2020-07-21 16:06:00   287.632  \n",
       "4             3.99             kg  2020-07-21 16:06:00   287.632  "
      ]
     },
     "execution_count": 6,
     "metadata": {},
     "output_type": "execute_result"
    }
   ],
   "source": [
    "print(\"CARGA DE DATOS DEL DATASET MERCADONA\")\n",
    "print(\"\\n\")\n",
    "mercadona_df.head()"
   ]
  },
  {
   "cell_type": "code",
   "execution_count": 7,
   "metadata": {},
   "outputs": [
    {
     "name": "stdout",
     "output_type": "stream",
     "text": [
      "VISUALIZACION DE LA INFORMACION ESTADISTICA DEL DATASET DE MERCADONA\n",
      "\n",
      "\n"
     ]
    },
    {
     "data": {
      "text/html": [
       "<div>\n",
       "<style scoped>\n",
       "    .dataframe tbody tr th:only-of-type {\n",
       "        vertical-align: middle;\n",
       "    }\n",
       "\n",
       "    .dataframe tbody tr th {\n",
       "        vertical-align: top;\n",
       "    }\n",
       "\n",
       "    .dataframe thead th {\n",
       "        text-align: right;\n",
       "    }\n",
       "</style>\n",
       "<table border=\"1\" class=\"dataframe\">\n",
       "  <thead>\n",
       "    <tr style=\"text-align: right;\">\n",
       "      <th></th>\n",
       "      <th>id</th>\n",
       "      <th>price</th>\n",
       "      <th>reference_price</th>\n",
       "      <th>PIBFecha</th>\n",
       "    </tr>\n",
       "  </thead>\n",
       "  <tbody>\n",
       "    <tr>\n",
       "      <th>count</th>\n",
       "      <td>7.611020e+05</td>\n",
       "      <td>761102.000000</td>\n",
       "      <td>761102.000000</td>\n",
       "      <td>7.611020e+05</td>\n",
       "    </tr>\n",
       "    <tr>\n",
       "      <th>mean</th>\n",
       "      <td>6.293395e+05</td>\n",
       "      <td>6.265762</td>\n",
       "      <td>6.946805</td>\n",
       "      <td>2.876320e+02</td>\n",
       "    </tr>\n",
       "    <tr>\n",
       "      <th>std</th>\n",
       "      <td>2.197114e+05</td>\n",
       "      <td>67.922137</td>\n",
       "      <td>12.292162</td>\n",
       "      <td>3.979042e-13</td>\n",
       "    </tr>\n",
       "    <tr>\n",
       "      <th>min</th>\n",
       "      <td>2.487890e+05</td>\n",
       "      <td>0.100000</td>\n",
       "      <td>0.010000</td>\n",
       "      <td>2.876320e+02</td>\n",
       "    </tr>\n",
       "    <tr>\n",
       "      <th>25%</th>\n",
       "      <td>4.390642e+05</td>\n",
       "      <td>1.210000</td>\n",
       "      <td>1.630000</td>\n",
       "      <td>2.876320e+02</td>\n",
       "    </tr>\n",
       "    <tr>\n",
       "      <th>50%</th>\n",
       "      <td>6.293395e+05</td>\n",
       "      <td>1.980000</td>\n",
       "      <td>3.980000</td>\n",
       "      <td>2.876320e+02</td>\n",
       "    </tr>\n",
       "    <tr>\n",
       "      <th>75%</th>\n",
       "      <td>8.196148e+05</td>\n",
       "      <td>3.740000</td>\n",
       "      <td>8.000000</td>\n",
       "      <td>2.876320e+02</td>\n",
       "    </tr>\n",
       "    <tr>\n",
       "      <th>max</th>\n",
       "      <td>1.009890e+06</td>\n",
       "      <td>2470.050000</td>\n",
       "      <td>432.430000</td>\n",
       "      <td>2.876320e+02</td>\n",
       "    </tr>\n",
       "  </tbody>\n",
       "</table>\n",
       "</div>"
      ],
      "text/plain": [
       "                 id          price  reference_price      PIBFecha\n",
       "count  7.611020e+05  761102.000000    761102.000000  7.611020e+05\n",
       "mean   6.293395e+05       6.265762         6.946805  2.876320e+02\n",
       "std    2.197114e+05      67.922137        12.292162  3.979042e-13\n",
       "min    2.487890e+05       0.100000         0.010000  2.876320e+02\n",
       "25%    4.390642e+05       1.210000         1.630000  2.876320e+02\n",
       "50%    6.293395e+05       1.980000         3.980000  2.876320e+02\n",
       "75%    8.196148e+05       3.740000         8.000000  2.876320e+02\n",
       "max    1.009890e+06    2470.050000       432.430000  2.876320e+02"
      ]
     },
     "execution_count": 7,
     "metadata": {},
     "output_type": "execute_result"
    }
   ],
   "source": [
    "print(\"VISUALIZACION DE LA INFORMACION ESTADISTICA DEL DATASET DE MERCADONA\")\n",
    "print(\"\\n\")\n",
    "mercadona_df.describe()"
   ]
  },
  {
   "cell_type": "code",
   "execution_count": 8,
   "metadata": {},
   "outputs": [
    {
     "name": "stdout",
     "output_type": "stream",
     "text": [
      "VISUALIZACION DE LA INFORMACION DEL DATASET DE MERCADONA\n",
      "\n",
      "\n",
      "<class 'pandas.core.frame.DataFrame'>\n",
      "RangeIndex: 761102 entries, 0 to 761101\n",
      "Data columns (total 9 columns):\n",
      " #   Column           Non-Null Count   Dtype  \n",
      "---  ------           --------------   -----  \n",
      " 0   id               761102 non-null  int64  \n",
      " 1   supermarket      761102 non-null  object \n",
      " 2   category         761102 non-null  object \n",
      " 3   name             761102 non-null  object \n",
      " 4   price            761102 non-null  float64\n",
      " 5   reference_price  761102 non-null  float64\n",
      " 6   reference_unit   761102 non-null  object \n",
      " 7   insert_date      761102 non-null  object \n",
      " 8   PIBFecha         761102 non-null  float64\n",
      "dtypes: float64(3), int64(1), object(5)\n",
      "memory usage: 52.3+ MB\n"
     ]
    }
   ],
   "source": [
    "print(\"VISUALIZACION DE LA INFORMACION DEL DATASET DE MERCADONA\")\n",
    "print(\"\\n\")\n",
    "mercadona_df.info()"
   ]
  },
  {
   "cell_type": "code",
   "execution_count": 9,
   "metadata": {},
   "outputs": [
    {
     "name": "stdout",
     "output_type": "stream",
     "text": [
      "VALORES NULOS DEL DATASET DE MERCADONA\n",
      "\n",
      "\n"
     ]
    },
    {
     "data": {
      "text/plain": [
       "id                 0\n",
       "supermarket        0\n",
       "category           0\n",
       "name               0\n",
       "price              0\n",
       "reference_price    0\n",
       "reference_unit     0\n",
       "insert_date        0\n",
       "PIBFecha           0\n",
       "dtype: int64"
      ]
     },
     "execution_count": 9,
     "metadata": {},
     "output_type": "execute_result"
    }
   ],
   "source": [
    "print(\"VALORES NULOS DEL DATASET DE MERCADONA\")\n",
    "print(\"\\n\")\n",
    "mercadona_df.isnull().sum()"
   ]
  }
 ],
 "metadata": {
  "kernelspec": {
   "display_name": "env",
   "language": "python",
   "name": "python3"
  },
  "language_info": {
   "codemirror_mode": {
    "name": "ipython",
    "version": 3
   },
   "file_extension": ".py",
   "mimetype": "text/x-python",
   "name": "python",
   "nbconvert_exporter": "python",
   "pygments_lexer": "ipython3",
   "version": "3.13.0"
  }
 },
 "nbformat": 4,
 "nbformat_minor": 2
}
