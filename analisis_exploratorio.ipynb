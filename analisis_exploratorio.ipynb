{
 "cells": [
  {
   "cell_type": "markdown",
   "metadata": {},
   "source": [
    "### Importamos las librerias necesearias"
   ]
  },
  {
   "cell_type": "code",
   "execution_count": 1,
   "metadata": {},
   "outputs": [],
   "source": [
    "import pandas as pd"
   ]
  },
  {
   "cell_type": "code",
   "execution_count": 3,
   "metadata": {},
   "outputs": [],
   "source": [
    "mercadona1_df = pd.read_csv('datasets/Mercadona_Intervalo_1_Dataset.csv')\n",
    "mercadona2_df = pd.read_csv('datasets/Mercadona_Intervalo_2_Dataset.csv')"
   ]
  },
  {
   "cell_type": "code",
   "execution_count": 4,
   "metadata": {},
   "outputs": [
    {
     "name": "stdout",
     "output_type": "stream",
     "text": [
      "CARGA DE DATOS DE MERCADONA INTERVALO 1 DATASET\n",
      "\n",
      "\n"
     ]
    },
    {
     "data": {
      "text/html": [
       "<div>\n",
       "<style scoped>\n",
       "    .dataframe tbody tr th:only-of-type {\n",
       "        vertical-align: middle;\n",
       "    }\n",
       "\n",
       "    .dataframe tbody tr th {\n",
       "        vertical-align: top;\n",
       "    }\n",
       "\n",
       "    .dataframe thead th {\n",
       "        text-align: right;\n",
       "    }\n",
       "</style>\n",
       "<table border=\"1\" class=\"dataframe\">\n",
       "  <thead>\n",
       "    <tr style=\"text-align: right;\">\n",
       "      <th></th>\n",
       "      <th>id</th>\n",
       "      <th>supermarket</th>\n",
       "      <th>category</th>\n",
       "      <th>name</th>\n",
       "      <th>price</th>\n",
       "      <th>reference_price</th>\n",
       "      <th>reference_unit</th>\n",
       "      <th>insert_date</th>\n",
       "      <th>PIBFecha</th>\n",
       "    </tr>\n",
       "  </thead>\n",
       "  <tbody>\n",
       "    <tr>\n",
       "      <th>0</th>\n",
       "      <td>248789</td>\n",
       "      <td>mercadona-es</td>\n",
       "      <td>fruta</td>\n",
       "      <td>Banana</td>\n",
       "      <td>0.26</td>\n",
       "      <td>1.29</td>\n",
       "      <td>kg</td>\n",
       "      <td>2020-07-21 16:06:00</td>\n",
       "      <td>287.632</td>\n",
       "    </tr>\n",
       "    <tr>\n",
       "      <th>1</th>\n",
       "      <td>248790</td>\n",
       "      <td>mercadona-es</td>\n",
       "      <td>fruta</td>\n",
       "      <td>PlÃ¡tano</td>\n",
       "      <td>0.34</td>\n",
       "      <td>1.99</td>\n",
       "      <td>kg</td>\n",
       "      <td>2020-07-21 16:06:00</td>\n",
       "      <td>287.632</td>\n",
       "    </tr>\n",
       "    <tr>\n",
       "      <th>2</th>\n",
       "      <td>248791</td>\n",
       "      <td>mercadona-es</td>\n",
       "      <td>fruta</td>\n",
       "      <td>PlÃ¡tano macho</td>\n",
       "      <td>0.58</td>\n",
       "      <td>1.95</td>\n",
       "      <td>kg</td>\n",
       "      <td>2020-07-21 16:06:00</td>\n",
       "      <td>287.632</td>\n",
       "    </tr>\n",
       "    <tr>\n",
       "      <th>3</th>\n",
       "      <td>248792</td>\n",
       "      <td>mercadona-es</td>\n",
       "      <td>fruta</td>\n",
       "      <td>Uva blanca sin semillas</td>\n",
       "      <td>2.84</td>\n",
       "      <td>3.79</td>\n",
       "      <td>kg</td>\n",
       "      <td>2020-07-21 16:06:00</td>\n",
       "      <td>287.632</td>\n",
       "    </tr>\n",
       "    <tr>\n",
       "      <th>4</th>\n",
       "      <td>248793</td>\n",
       "      <td>mercadona-es</td>\n",
       "      <td>fruta</td>\n",
       "      <td>Uva negra sin semillas</td>\n",
       "      <td>2.99</td>\n",
       "      <td>3.99</td>\n",
       "      <td>kg</td>\n",
       "      <td>2020-07-21 16:06:00</td>\n",
       "      <td>287.632</td>\n",
       "    </tr>\n",
       "  </tbody>\n",
       "</table>\n",
       "</div>"
      ],
      "text/plain": [
       "       id   supermarket category                     name  price  \\\n",
       "0  248789  mercadona-es    fruta                   Banana   0.26   \n",
       "1  248790  mercadona-es    fruta                 PlÃ¡tano   0.34   \n",
       "2  248791  mercadona-es    fruta           PlÃ¡tano macho   0.58   \n",
       "3  248792  mercadona-es    fruta  Uva blanca sin semillas   2.84   \n",
       "4  248793  mercadona-es    fruta   Uva negra sin semillas   2.99   \n",
       "\n",
       "   reference_price reference_unit          insert_date  PIBFecha  \n",
       "0             1.29             kg  2020-07-21 16:06:00   287.632  \n",
       "1             1.99             kg  2020-07-21 16:06:00   287.632  \n",
       "2             1.95             kg  2020-07-21 16:06:00   287.632  \n",
       "3             3.79             kg  2020-07-21 16:06:00   287.632  \n",
       "4             3.99             kg  2020-07-21 16:06:00   287.632  "
      ]
     },
     "execution_count": 4,
     "metadata": {},
     "output_type": "execute_result"
    }
   ],
   "source": [
    "print(\"CARGA DE DATOS DE MERCADONA INTERVALO 1 DATASET\")\n",
    "print(\"\\n\")\n",
    "mercadona1_df.head()"
   ]
  },
  {
   "cell_type": "code",
   "execution_count": 5,
   "metadata": {},
   "outputs": [
    {
     "name": "stdout",
     "output_type": "stream",
     "text": [
      "CARGA DE DATOS DE MERCADONA INTERVALO 2 DATASET\n",
      "\n",
      "\n"
     ]
    },
    {
     "data": {
      "text/html": [
       "<div>\n",
       "<style scoped>\n",
       "    .dataframe tbody tr th:only-of-type {\n",
       "        vertical-align: middle;\n",
       "    }\n",
       "\n",
       "    .dataframe tbody tr th {\n",
       "        vertical-align: top;\n",
       "    }\n",
       "\n",
       "    .dataframe thead th {\n",
       "        text-align: right;\n",
       "    }\n",
       "</style>\n",
       "<table border=\"1\" class=\"dataframe\">\n",
       "  <thead>\n",
       "    <tr style=\"text-align: right;\">\n",
       "      <th></th>\n",
       "      <th>id</th>\n",
       "      <th>supermarket</th>\n",
       "      <th>category</th>\n",
       "      <th>name</th>\n",
       "      <th>price</th>\n",
       "      <th>reference_price</th>\n",
       "      <th>reference_unit</th>\n",
       "      <th>insert_date</th>\n",
       "      <th>PIBFecha</th>\n",
       "    </tr>\n",
       "  </thead>\n",
       "  <tbody>\n",
       "    <tr>\n",
       "      <th>0</th>\n",
       "      <td>627713</td>\n",
       "      <td>mercadona-es</td>\n",
       "      <td>embutido</td>\n",
       "      <td>Butifarra fresca</td>\n",
       "      <td>3.16</td>\n",
       "      <td>4.93</td>\n",
       "      <td>kg</td>\n",
       "      <td>2020-08-21 04:00:00</td>\n",
       "      <td>287.632</td>\n",
       "    </tr>\n",
       "    <tr>\n",
       "      <th>1</th>\n",
       "      <td>627952</td>\n",
       "      <td>mercadona-es</td>\n",
       "      <td>embutido</td>\n",
       "      <td>Longaniza criollo fresca</td>\n",
       "      <td>2.73</td>\n",
       "      <td>6.50</td>\n",
       "      <td>kg</td>\n",
       "      <td>2020-08-21 04:00:00</td>\n",
       "      <td>287.632</td>\n",
       "    </tr>\n",
       "    <tr>\n",
       "      <th>2</th>\n",
       "      <td>628008</td>\n",
       "      <td>mercadona-es</td>\n",
       "      <td>fruta</td>\n",
       "      <td>Nectarina</td>\n",
       "      <td>0.43</td>\n",
       "      <td>2.15</td>\n",
       "      <td>kg</td>\n",
       "      <td>2020-08-21 04:00:00</td>\n",
       "      <td>287.632</td>\n",
       "    </tr>\n",
       "    <tr>\n",
       "      <th>3</th>\n",
       "      <td>628015</td>\n",
       "      <td>mercadona-es</td>\n",
       "      <td>especias</td>\n",
       "      <td>Romero Hacendado</td>\n",
       "      <td>0.80</td>\n",
       "      <td>2.00</td>\n",
       "      <td>100 g</td>\n",
       "      <td>2020-08-21 04:00:00</td>\n",
       "      <td>287.632</td>\n",
       "    </tr>\n",
       "    <tr>\n",
       "      <th>4</th>\n",
       "      <td>628281</td>\n",
       "      <td>mercadona-es</td>\n",
       "      <td>fruta</td>\n",
       "      <td>Fresas</td>\n",
       "      <td>2.29</td>\n",
       "      <td>5.73</td>\n",
       "      <td>kg</td>\n",
       "      <td>2020-08-21 04:00:00</td>\n",
       "      <td>287.632</td>\n",
       "    </tr>\n",
       "  </tbody>\n",
       "</table>\n",
       "</div>"
      ],
      "text/plain": [
       "       id   supermarket  category                      name  price  \\\n",
       "0  627713  mercadona-es  embutido          Butifarra fresca   3.16   \n",
       "1  627952  mercadona-es  embutido  Longaniza criollo fresca   2.73   \n",
       "2  628008  mercadona-es     fruta                 Nectarina   0.43   \n",
       "3  628015  mercadona-es  especias          Romero Hacendado   0.80   \n",
       "4  628281  mercadona-es     fruta                    Fresas   2.29   \n",
       "\n",
       "   reference_price reference_unit          insert_date  PIBFecha  \n",
       "0             4.93             kg  2020-08-21 04:00:00   287.632  \n",
       "1             6.50             kg  2020-08-21 04:00:00   287.632  \n",
       "2             2.15             kg  2020-08-21 04:00:00   287.632  \n",
       "3             2.00          100 g  2020-08-21 04:00:00   287.632  \n",
       "4             5.73             kg  2020-08-21 04:00:00   287.632  "
      ]
     },
     "execution_count": 5,
     "metadata": {},
     "output_type": "execute_result"
    }
   ],
   "source": [
    "print(\"CARGA DE DATOS DE MERCADONA INTERVALO 2 DATASET\")\n",
    "print(\"\\n\")\n",
    "mercadona2_df.head()"
   ]
  },
  {
   "cell_type": "code",
   "execution_count": 6,
   "metadata": {},
   "outputs": [
    {
     "name": "stdout",
     "output_type": "stream",
     "text": [
      "VISUALIZACION DE LA INFORMACION ESTADISTICA DEL INTERVALO 1 DE MERCADONA\n",
      "\n",
      "\n"
     ]
    },
    {
     "data": {
      "text/html": [
       "<div>\n",
       "<style scoped>\n",
       "    .dataframe tbody tr th:only-of-type {\n",
       "        vertical-align: middle;\n",
       "    }\n",
       "\n",
       "    .dataframe tbody tr th {\n",
       "        vertical-align: top;\n",
       "    }\n",
       "\n",
       "    .dataframe thead th {\n",
       "        text-align: right;\n",
       "    }\n",
       "</style>\n",
       "<table border=\"1\" class=\"dataframe\">\n",
       "  <thead>\n",
       "    <tr style=\"text-align: right;\">\n",
       "      <th></th>\n",
       "      <th>id</th>\n",
       "      <th>price</th>\n",
       "      <th>reference_price</th>\n",
       "      <th>PIBFecha</th>\n",
       "    </tr>\n",
       "  </thead>\n",
       "  <tbody>\n",
       "    <tr>\n",
       "      <th>count</th>\n",
       "      <td>380551.000000</td>\n",
       "      <td>380551.000000</td>\n",
       "      <td>380551.000000</td>\n",
       "      <td>3.805510e+05</td>\n",
       "    </tr>\n",
       "    <tr>\n",
       "      <th>mean</th>\n",
       "      <td>439064.027573</td>\n",
       "      <td>6.201283</td>\n",
       "      <td>6.950653</td>\n",
       "      <td>2.876320e+02</td>\n",
       "    </tr>\n",
       "    <tr>\n",
       "      <th>std</th>\n",
       "      <td>109855.803100</td>\n",
       "      <td>67.626999</td>\n",
       "      <td>12.246302</td>\n",
       "      <td>2.273740e-13</td>\n",
       "    </tr>\n",
       "    <tr>\n",
       "      <th>min</th>\n",
       "      <td>248789.000000</td>\n",
       "      <td>0.100000</td>\n",
       "      <td>0.010000</td>\n",
       "      <td>2.876320e+02</td>\n",
       "    </tr>\n",
       "    <tr>\n",
       "      <th>25%</th>\n",
       "      <td>343926.500000</td>\n",
       "      <td>1.220000</td>\n",
       "      <td>1.630000</td>\n",
       "      <td>2.876320e+02</td>\n",
       "    </tr>\n",
       "    <tr>\n",
       "      <th>50%</th>\n",
       "      <td>439064.000000</td>\n",
       "      <td>1.990000</td>\n",
       "      <td>3.980000</td>\n",
       "      <td>2.876320e+02</td>\n",
       "    </tr>\n",
       "    <tr>\n",
       "      <th>75%</th>\n",
       "      <td>534201.500000</td>\n",
       "      <td>3.740000</td>\n",
       "      <td>8.000000</td>\n",
       "      <td>2.876320e+02</td>\n",
       "    </tr>\n",
       "    <tr>\n",
       "      <th>max</th>\n",
       "      <td>629352.000000</td>\n",
       "      <td>2470.050000</td>\n",
       "      <td>432.430000</td>\n",
       "      <td>2.876320e+02</td>\n",
       "    </tr>\n",
       "  </tbody>\n",
       "</table>\n",
       "</div>"
      ],
      "text/plain": [
       "                  id          price  reference_price      PIBFecha\n",
       "count  380551.000000  380551.000000    380551.000000  3.805510e+05\n",
       "mean   439064.027573       6.201283         6.950653  2.876320e+02\n",
       "std    109855.803100      67.626999        12.246302  2.273740e-13\n",
       "min    248789.000000       0.100000         0.010000  2.876320e+02\n",
       "25%    343926.500000       1.220000         1.630000  2.876320e+02\n",
       "50%    439064.000000       1.990000         3.980000  2.876320e+02\n",
       "75%    534201.500000       3.740000         8.000000  2.876320e+02\n",
       "max    629352.000000    2470.050000       432.430000  2.876320e+02"
      ]
     },
     "execution_count": 6,
     "metadata": {},
     "output_type": "execute_result"
    }
   ],
   "source": [
    "print(\"VISUALIZACION DE LA INFORMACION ESTADISTICA DEL INTERVALO 1 DE MERCADONA\")\n",
    "print(\"\\n\")\n",
    "mercadona1_df.describe()"
   ]
  },
  {
   "cell_type": "code",
   "execution_count": 7,
   "metadata": {},
   "outputs": [
    {
     "name": "stdout",
     "output_type": "stream",
     "text": [
      "VISUALIZACION DE LA INFORMACION ESTADISTICA DEL INTERVALO 2 DE MERCADONA\n",
      "\n",
      "\n"
     ]
    },
    {
     "data": {
      "text/html": [
       "<div>\n",
       "<style scoped>\n",
       "    .dataframe tbody tr th:only-of-type {\n",
       "        vertical-align: middle;\n",
       "    }\n",
       "\n",
       "    .dataframe tbody tr th {\n",
       "        vertical-align: top;\n",
       "    }\n",
       "\n",
       "    .dataframe thead th {\n",
       "        text-align: right;\n",
       "    }\n",
       "</style>\n",
       "<table border=\"1\" class=\"dataframe\">\n",
       "  <thead>\n",
       "    <tr style=\"text-align: right;\">\n",
       "      <th></th>\n",
       "      <th>id</th>\n",
       "      <th>price</th>\n",
       "      <th>reference_price</th>\n",
       "      <th>PIBFecha</th>\n",
       "    </tr>\n",
       "  </thead>\n",
       "  <tbody>\n",
       "    <tr>\n",
       "      <th>count</th>\n",
       "      <td>3.805510e+05</td>\n",
       "      <td>380551.000000</td>\n",
       "      <td>380551.000000</td>\n",
       "      <td>3.805510e+05</td>\n",
       "    </tr>\n",
       "    <tr>\n",
       "      <th>mean</th>\n",
       "      <td>8.196150e+05</td>\n",
       "      <td>6.330242</td>\n",
       "      <td>6.942957</td>\n",
       "      <td>2.876320e+02</td>\n",
       "    </tr>\n",
       "    <tr>\n",
       "      <th>std</th>\n",
       "      <td>1.098558e+05</td>\n",
       "      <td>68.216025</td>\n",
       "      <td>12.337865</td>\n",
       "      <td>2.273740e-13</td>\n",
       "    </tr>\n",
       "    <tr>\n",
       "      <th>min</th>\n",
       "      <td>6.277130e+05</td>\n",
       "      <td>0.100000</td>\n",
       "      <td>0.010000</td>\n",
       "      <td>2.876320e+02</td>\n",
       "    </tr>\n",
       "    <tr>\n",
       "      <th>25%</th>\n",
       "      <td>7.244775e+05</td>\n",
       "      <td>1.210000</td>\n",
       "      <td>1.630000</td>\n",
       "      <td>2.876320e+02</td>\n",
       "    </tr>\n",
       "    <tr>\n",
       "      <th>50%</th>\n",
       "      <td>8.196150e+05</td>\n",
       "      <td>1.980000</td>\n",
       "      <td>3.970000</td>\n",
       "      <td>2.876320e+02</td>\n",
       "    </tr>\n",
       "    <tr>\n",
       "      <th>75%</th>\n",
       "      <td>9.147525e+05</td>\n",
       "      <td>3.740000</td>\n",
       "      <td>8.000000</td>\n",
       "      <td>2.876320e+02</td>\n",
       "    </tr>\n",
       "    <tr>\n",
       "      <th>max</th>\n",
       "      <td>1.009890e+06</td>\n",
       "      <td>2470.050000</td>\n",
       "      <td>432.430000</td>\n",
       "      <td>2.876320e+02</td>\n",
       "    </tr>\n",
       "  </tbody>\n",
       "</table>\n",
       "</div>"
      ],
      "text/plain": [
       "                 id          price  reference_price      PIBFecha\n",
       "count  3.805510e+05  380551.000000    380551.000000  3.805510e+05\n",
       "mean   8.196150e+05       6.330242         6.942957  2.876320e+02\n",
       "std    1.098558e+05      68.216025        12.337865  2.273740e-13\n",
       "min    6.277130e+05       0.100000         0.010000  2.876320e+02\n",
       "25%    7.244775e+05       1.210000         1.630000  2.876320e+02\n",
       "50%    8.196150e+05       1.980000         3.970000  2.876320e+02\n",
       "75%    9.147525e+05       3.740000         8.000000  2.876320e+02\n",
       "max    1.009890e+06    2470.050000       432.430000  2.876320e+02"
      ]
     },
     "execution_count": 7,
     "metadata": {},
     "output_type": "execute_result"
    }
   ],
   "source": [
    "print(\"VISUALIZACION DE LA INFORMACION ESTADISTICA DEL INTERVALO 2 DE MERCADONA\")\n",
    "print(\"\\n\")\n",
    "mercadona2_df.describe()"
   ]
  },
  {
   "cell_type": "code",
   "execution_count": 8,
   "metadata": {},
   "outputs": [
    {
     "name": "stdout",
     "output_type": "stream",
     "text": [
      "VISUALIZACION DE LA INFORMACION DEL INTERVALO 1 DE MERCADONA\n",
      "\n",
      "\n",
      "<class 'pandas.core.frame.DataFrame'>\n",
      "RangeIndex: 380551 entries, 0 to 380550\n",
      "Data columns (total 9 columns):\n",
      " #   Column           Non-Null Count   Dtype  \n",
      "---  ------           --------------   -----  \n",
      " 0   id               380551 non-null  int64  \n",
      " 1   supermarket      380551 non-null  object \n",
      " 2   category         380551 non-null  object \n",
      " 3   name             380551 non-null  object \n",
      " 4   price            380551 non-null  float64\n",
      " 5   reference_price  380551 non-null  float64\n",
      " 6   reference_unit   380551 non-null  object \n",
      " 7   insert_date      380551 non-null  object \n",
      " 8   PIBFecha         380551 non-null  float64\n",
      "dtypes: float64(3), int64(1), object(5)\n",
      "memory usage: 26.1+ MB\n"
     ]
    }
   ],
   "source": [
    "print(\"VISUALIZACION DE LA INFORMACION DEL INTERVALO 1 DE MERCADONA\")\n",
    "print(\"\\n\")\n",
    "mercadona1_df.info()"
   ]
  },
  {
   "cell_type": "code",
   "execution_count": 9,
   "metadata": {},
   "outputs": [
    {
     "name": "stdout",
     "output_type": "stream",
     "text": [
      "VISUALIZACION DE LA INFORMACION ESTADISTICA DEL INTERVALO 1 DE MERCADONA\n",
      "\n",
      "\n",
      "<class 'pandas.core.frame.DataFrame'>\n",
      "RangeIndex: 380551 entries, 0 to 380550\n",
      "Data columns (total 9 columns):\n",
      " #   Column           Non-Null Count   Dtype  \n",
      "---  ------           --------------   -----  \n",
      " 0   id               380551 non-null  int64  \n",
      " 1   supermarket      380551 non-null  object \n",
      " 2   category         380551 non-null  object \n",
      " 3   name             380551 non-null  object \n",
      " 4   price            380551 non-null  float64\n",
      " 5   reference_price  380551 non-null  float64\n",
      " 6   reference_unit   380551 non-null  object \n",
      " 7   insert_date      380551 non-null  object \n",
      " 8   PIBFecha         380551 non-null  float64\n",
      "dtypes: float64(3), int64(1), object(5)\n",
      "memory usage: 26.1+ MB\n"
     ]
    }
   ],
   "source": [
    "print(\"VISUALIZACION DE LA INFORMACION ESTADISTICA DEL INTERVALO 1 DE MERCADONA\")\n",
    "print(\"\\n\")\n",
    "mercadona2_df.info()"
   ]
  },
  {
   "cell_type": "code",
   "execution_count": 10,
   "metadata": {},
   "outputs": [
    {
     "name": "stdout",
     "output_type": "stream",
     "text": [
      "VALORES NULOS DEL INTERVALO 1 DE MERCADONA\n",
      "\n",
      "\n"
     ]
    },
    {
     "data": {
      "text/plain": [
       "id                 0\n",
       "supermarket        0\n",
       "category           0\n",
       "name               0\n",
       "price              0\n",
       "reference_price    0\n",
       "reference_unit     0\n",
       "insert_date        0\n",
       "PIBFecha           0\n",
       "dtype: int64"
      ]
     },
     "execution_count": 10,
     "metadata": {},
     "output_type": "execute_result"
    }
   ],
   "source": [
    "print(\"VALORES NULOS DEL INTERVALO 1 DE MERCADONA\")\n",
    "print(\"\\n\")\n",
    "mercadona1_df.isnull().sum()"
   ]
  },
  {
   "cell_type": "code",
   "execution_count": 11,
   "metadata": {},
   "outputs": [
    {
     "name": "stdout",
     "output_type": "stream",
     "text": [
      "VALORES NULOS DEL INTERVALO 2 DE MERCADONA\n",
      "\n",
      "\n"
     ]
    },
    {
     "data": {
      "text/plain": [
       "id                 0\n",
       "supermarket        0\n",
       "category           0\n",
       "name               0\n",
       "price              0\n",
       "reference_price    0\n",
       "reference_unit     0\n",
       "insert_date        0\n",
       "PIBFecha           0\n",
       "dtype: int64"
      ]
     },
     "execution_count": 11,
     "metadata": {},
     "output_type": "execute_result"
    }
   ],
   "source": [
    "print(\"VALORES NULOS DEL INTERVALO 2 DE MERCADONA\")\n",
    "print(\"\\n\")\n",
    "mercadona2_df.isnull().sum()"
   ]
  }
 ],
 "metadata": {
  "kernelspec": {
   "display_name": "env",
   "language": "python",
   "name": "python3"
  },
  "language_info": {
   "codemirror_mode": {
    "name": "ipython",
    "version": 3
   },
   "file_extension": ".py",
   "mimetype": "text/x-python",
   "name": "python",
   "nbconvert_exporter": "python",
   "pygments_lexer": "ipython3",
   "version": "3.13.0"
  }
 },
 "nbformat": 4,
 "nbformat_minor": 2
}
